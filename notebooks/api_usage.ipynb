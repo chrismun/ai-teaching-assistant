{
 "cells": [
  {
   "cell_type": "markdown",
   "id": "90dc5b57-2ec5-4c53-8276-b38d4aa23af3",
   "metadata": {},
   "source": [
    "## About\n",
    "It is anticipated that the `developer` exploring this blueprint will likely follow one of the two paths i.e.\n",
    "* Build your own conversational agent from the grounds up\n",
    "* Extend an existing agent\n",
    "\n",
    "The blueprint has two sets of APIs the application builder is expected to interact with. The blueprint is expected to be deployed using docker compose for this APIs to be accesible.\n",
    "\n",
    "* Agent apis\n",
    "This is exposed on port 8081 and accessible on \"http://IPADDR:8081\".\n",
    "Api documentation is available at  \"http://IPADDR:8081/docs#\"\n",
    "\n",
    "* Analytics server apis\n",
    "This is exposed on port 8082 and accessible on \"http://IPADDR:8082\".\n",
    "Api documentation is available at  \"http://IPADDR:8082/docs#\" \n",
    "\n",
    "This notebook further illustrates one more aspect which becomes important when the `customer service operations` team wants to leverage the user feedback to power the data flywheel. Examples are included on how to glean the feedback data from the blueprint."
   ]
  },
  {
   "cell_type": "code",
   "execution_count": 1,
   "id": "5d2c5e5a-5f73-4794-9065-d2d1554af40f",
   "metadata": {
    "tags": []
   },
   "outputs": [
    {
     "name": "stdout",
     "output_type": "stream",
     "text": [
      "Looking in indexes: https://pypi.org/simple, https://pypi.ngc.nvidia.com\n",
      "Requirement already satisfied: requests in /usr/local/lib/python3.10/dist-packages (2.32.3)\n",
      "Requirement already satisfied: charset-normalizer<4,>=2 in /usr/local/lib/python3.10/dist-packages (from requests) (3.4.0)\n",
      "Requirement already satisfied: idna<4,>=2.5 in /usr/local/lib/python3.10/dist-packages (from requests) (3.7)\n",
      "Requirement already satisfied: urllib3<3,>=1.21.1 in /usr/local/lib/python3.10/dist-packages (from requests) (1.26.20)\n",
      "Requirement already satisfied: certifi>=2017.4.17 in /usr/local/lib/python3.10/dist-packages (from requests) (2024.7.4)\n",
      "\u001b[33mWARNING: Running pip as the 'root' user can result in broken permissions and conflicting behaviour with the system package manager, possibly rendering your system unusable.It is recommended to use a virtual environment instead: https://pip.pypa.io/warnings/venv. Use the --root-user-action option if you know what you are doing and want to suppress this warning.\u001b[0m\u001b[33m\n",
      "\u001b[0m\n",
      "\u001b[1m[\u001b[0m\u001b[34;49mnotice\u001b[0m\u001b[1;39;49m]\u001b[0m\u001b[39;49m A new release of pip is available: \u001b[0m\u001b[31;49m24.1.2\u001b[0m\u001b[39;49m -> \u001b[0m\u001b[32;49m24.3.1\u001b[0m\n",
      "\u001b[1m[\u001b[0m\u001b[34;49mnotice\u001b[0m\u001b[1;39;49m]\u001b[0m\u001b[39;49m To update, run: \u001b[0m\u001b[32;49mpython -m pip install --upgrade pip\u001b[0m\n"
     ]
    }
   ],
   "source": [
    "!pip install requests"
   ]
  },
  {
   "cell_type": "markdown",
   "id": "f9f41d0f-0eea-47e2-a715-ecf716f16181",
   "metadata": {},
   "source": [
    "### Notebook variables"
   ]
  },
  {
   "cell_type": "code",
   "execution_count": 1,
   "id": "8bbae037-6a63-40ef-8d46-18f706855f63",
   "metadata": {
    "tags": []
   },
   "outputs": [],
   "source": [
    "IPADDRESS = \"localhost\" #Replace this with the correct IP address\n",
    "AGENT_PORT = \"8081\"\n",
    "ANALYTICS_PORT = \"8082\"\n",
    "AGENT_BASE_URL = f'http://{IPADDRESS}:{AGENT_PORT}'\n",
    "ANALYTICS_BASE_URL = f'http://{IPADDRESS}:{ANALYTICS_PORT}'"
   ]
  },
  {
   "cell_type": "markdown",
   "id": "b45d8a18-9c1f-4705-a9cf-99ac4324b43a",
   "metadata": {},
   "source": [
    "### Agent API usage\n",
    "The next few set of cells illustrate examples of the APIs as documented at \n",
    "http://localhost:8081/docs#"
   ]
  },
  {
   "cell_type": "code",
   "execution_count": 2,
   "id": "c6d18c97-ec01-411c-8c08-9e7aaeb6bde2",
   "metadata": {
    "tags": []
   },
   "outputs": [
    {
     "name": "stdout",
     "output_type": "stream",
     "text": [
      "Status Code: 200\n",
      "Response Body: {'message': 'Service is up.'}\n"
     ]
    }
   ],
   "source": [
    "# Health\n",
    "# Perform a Health Check\n",
    "import requests\n",
    "url = AGENT_BASE_URL + \"/health\"\n",
    "headers = {\n",
    "    \"accept\": \"application/json\"\n",
    "}\n",
    "response = requests.get(url, headers=headers)\n",
    "\n",
    "# Print the response\n",
    "print(\"Status Code:\", response.status_code)\n",
    "print(\"Response Body:\", response.json())"
   ]
  },
  {
   "cell_type": "code",
   "execution_count": 4,
   "id": "1fa1ef6e-df8b-4c46-8bf9-93956064b6c4",
   "metadata": {
    "tags": []
   },
   "outputs": [
    {
     "name": "stdout",
     "output_type": "stream",
     "text": [
      "Status Code: 200\n",
      "Response is not in JSON format: # HELP python_gc_objects_collected_total Objects collected during gc\n",
      "# TYPE python_gc_objects_collected_total counter\n",
      "python_gc_objects_collected_total{generation=\"0\"} 15029.0\n",
      "python_gc_objects_collected_total{generation=\"1\"} 5800.0\n",
      "python_gc_objects_collected_total{generation=\"2\"} 222.0\n",
      "# HELP python_gc_objects_uncollectable_total Uncollectable objects found during GC\n",
      "# TYPE python_gc_objects_uncollectable_total counter\n",
      "python_gc_objects_uncollectable_total{generation=\"0\"} 0.0\n",
      "python_gc_objects_uncollectable_total{generation=\"1\"} 0.0\n",
      "python_gc_objects_uncollectable_total{generation=\"2\"} 0.0\n",
      "# HELP python_gc_collections_total Number of times this generation was collected\n",
      "# TYPE python_gc_collections_total counter\n",
      "python_gc_collections_total{generation=\"0\"} 399.0\n",
      "python_gc_collections_total{generation=\"1\"} 36.0\n",
      "python_gc_collections_total{generation=\"2\"} 3.0\n",
      "# HELP python_info Python platform information\n",
      "# TYPE python_info gauge\n",
      "python_info{implementation=\"CPython\",major=\"3\",minor=\"10\",patchlevel=\"12\",version=\"3.10.12\"} 1.0\n",
      "# HELP process_virtual_memory_bytes Virtual memory size in bytes.\n",
      "# TYPE process_virtual_memory_bytes gauge\n",
      "process_virtual_memory_bytes 3.06245632e+08\n",
      "# HELP process_resident_memory_bytes Resident memory size in bytes.\n",
      "# TYPE process_resident_memory_bytes gauge\n",
      "process_resident_memory_bytes 1.2546048e+08\n",
      "# HELP process_start_time_seconds Start time of the process since unix epoch in seconds.\n",
      "# TYPE process_start_time_seconds gauge\n",
      "process_start_time_seconds 1.73542578511e+09\n",
      "# HELP process_cpu_seconds_total Total user and system CPU time spent in seconds.\n",
      "# TYPE process_cpu_seconds_total counter\n",
      "process_cpu_seconds_total 69.36\n",
      "# HELP process_open_fds Number of open file descriptors.\n",
      "# TYPE process_open_fds gauge\n",
      "process_open_fds 13.0\n",
      "# HELP process_max_fds Maximum number of open file descriptors.\n",
      "# TYPE process_max_fds gauge\n",
      "process_max_fds 1.048576e+06\n",
      "\n"
     ]
    }
   ],
   "source": [
    "# Metrics\n",
    "\n",
    "import requests\n",
    "url = AGENT_BASE_URL + \"/metrics\"\n",
    "headers = {\n",
    "    \"accept\": \"application/json\"\n",
    "}\n",
    "response = requests.get(url, headers=headers)\n",
    "# Print the response\n",
    "print(\"Status Code:\", response.status_code)\n",
    "try:\n",
    "    print(\"Response Body:\", response.json())\n",
    "except ValueError:\n",
    "    print(\"Response is not in JSON format:\", response.text)"
   ]
  },
  {
   "cell_type": "code",
   "execution_count": 9,
   "id": "fd68e2a7-abf3-493a-85fd-3d894f9edb5d",
   "metadata": {
    "tags": []
   },
   "outputs": [
    {
     "name": "stdout",
     "output_type": "stream",
     "text": [
      "Status Code: 200\n",
      "Session ID: 988d1ea6-bc38-4b90-9f63-223d3494e2cd\n"
     ]
    }
   ],
   "source": [
    "# create_session\n",
    "# This needs to be done at the commencement of a conversation.\n",
    "# The returned the session_id needs to be used in the conversation that ensues\n",
    "import requests\n",
    "url = AGENT_BASE_URL + \"/create_session\"\n",
    "headers = {\n",
    "    \"accept\": \"application/json\"\n",
    "}\n",
    "response = requests.get(url, headers=headers)\n",
    "# Print the response\n",
    "print(\"Status Code:\", response.status_code)\n",
    "if response.status_code == 200:\n",
    "    try:\n",
    "        data = response.json()\n",
    "        session_id = data.get(\"session_id\")\n",
    "        print(\"Session ID:\", session_id)\n",
    "    except ValueError:\n",
    "        print(\"Response is not in JSON format:\", response.text)\n",
    "else:\n",
    "    print(\"Failed to create session. Status Code:\", response.status_code)"
   ]
  },
  {
   "cell_type": "code",
   "execution_count": 10,
   "id": "9fa7b321-b34b-4532-ab71-d9af75f6120d",
   "metadata": {
    "tags": []
   },
   "outputs": [
    {
     "name": "stdout",
     "output_type": "stream",
     "text": [
      "Status Code: 200\n",
      "Response is not in JSON format: data: {\"id\":\"6d19a5b4-4372-42dd-bb21-ec4eff84bcdd\",\"choices\":[{\"index\":0,\"message\":{\"role\":\"assistant\",\"content\":\"I couldn't find any exam data for you.\"},\"finish_reason\":\"\"}],\"session_id\":\"988d1ea6-bc38-4b90-9f63-223d3494e2cd\"}\n",
      "\n",
      "data: {\"id\":\"6d19a5b4-4372-42dd-bb21-ec4eff84bcdd\",\"choices\":[{\"index\":0,\"message\":{\"role\":\"assistant\",\"content\":\" \"},\"finish_reason\":\"[DONE]\"}],\"session_id\":\"988d1ea6-bc38-4b90-9f63-223d3494e2cd\"}\n",
      "\n",
      "\n"
     ]
    }
   ],
   "source": [
    "# generate\n",
    "# user_id is set to John Doe (refer the customer data csv)\n",
    "# session_id from the \"create_session\" is used in the post request\n",
    "\n",
    "import requests\n",
    "url = AGENT_BASE_URL + \"/generate\"  # Replace with the appropriate endpoint\n",
    "headers = {\n",
    "    \"Content-Type\": \"application/json\",\n",
    "    \"accept\": \"application/json\"\n",
    "}\n",
    "\n",
    "# \"What is my physics course grade distribution or weighting?\"\n",
    "\n",
    "payload = {\n",
    "    \"messages\": [\n",
    "        {\n",
    "            \"role\": \"user\",\n",
    "            \"content\": \"What are all of my exam scores?\"\n",
    "        }\n",
    "    ],\n",
    "    \"user_id\": \"4\",  # Replace with the actual user ID\n",
    "    \"session_id\": f\"{session_id}\"  # Replace with the actual session ID\n",
    "}\n",
    "\n",
    "response = requests.post(url, json=payload, headers=headers)\n",
    "# Print the response\n",
    "print(\"Status Code:\", response.status_code)\n",
    "try:\n",
    "    print(\"Response Body:\", response.json())\n",
    "except ValueError:\n",
    "    print(\"Response is not in JSON format:\", response.text)"
   ]
  },
  {
   "cell_type": "code",
   "execution_count": 7,
   "id": "db76214f-f520-4f09-9d29-c52378f2b9ba",
   "metadata": {
    "tags": []
   },
   "outputs": [
    {
     "name": "stdout",
     "output_type": "stream",
     "text": [
      "Status Code: 200\n",
      "Response Body: {'message': 'Response feedback saved successfully'}\n"
     ]
    }
   ],
   "source": [
    "# feedback/response\n",
    "# The feedback pertains to the most recent response as per \"generate\" api\n",
    "# feedback convention: -1:Negative, 0:Neutral, 1=Positive\n",
    "import requests\n",
    "\n",
    "url = AGENT_BASE_URL + \"/feedback/response\"\n",
    "headers = {\n",
    "    \"accept\": \"application/json\",\n",
    "    \"Content-Type\": \"application/json\"\n",
    "}\n",
    "payload = {\n",
    "    \"feedback\": -1,\n",
    "    \"session_id\": f\"{session_id}\"  # Replace with the actual session ID\n",
    "}\n",
    "response = requests.post(url, json=payload, headers=headers)\n",
    "# Print the response\n",
    "print(\"Status Code:\", response.status_code)\n",
    "try:\n",
    "    print(\"Response Body:\", response.json())\n",
    "except ValueError:\n",
    "    print(\"Response is not in JSON format:\", response.text)"
   ]
  },
  {
   "cell_type": "code",
   "execution_count": 8,
   "id": "cf7be7cc-3620-4e33-9750-833a5c98e4ac",
   "metadata": {
    "tags": []
   },
   "outputs": [
    {
     "name": "stdout",
     "output_type": "stream",
     "text": [
      "Status Code: 200\n",
      "Response Body: {'message': 'Session ended'}\n"
     ]
    }
   ],
   "source": [
    "# end_session\n",
    "\n",
    "import requests\n",
    "url = f\"{AGENT_BASE_URL}/end_session?session_id={session_id}\"\n",
    "headers = {\n",
    "    \"accept\": \"application/json\"\n",
    "}\n",
    "response = requests.get(url, headers=headers)\n",
    "# Print the response\n",
    "print(\"Status Code:\", response.status_code)\n",
    "try:\n",
    "    print(\"Response Body:\", response.json())\n",
    "except ValueError:\n",
    "    print(\"Response is not in JSON format:\", response.text)"
   ]
  },
  {
   "cell_type": "markdown",
   "id": "120999a0-c48e-404f-a1c5-82716c00c466",
   "metadata": {
    "id": "79acf105-e367-4d2b-b8d9-c272eca23064"
   },
   "source": [
    "### Analytics API usage\n",
    "The next few set of cells illustrate examples of the APIs as documented at \n",
    "http://localhost:8082/docs#"
   ]
  },
  {
   "cell_type": "code",
   "execution_count": 9,
   "id": "65db2af4-4f5f-41ac-a2fb-74eb7450613d",
   "metadata": {
    "tags": []
   },
   "outputs": [
    {
     "name": "stdout",
     "output_type": "stream",
     "text": [
      "Status Code: 200\n",
      "Response Body: {'message': 'Service is up.'}\n"
     ]
    }
   ],
   "source": [
    "# Health\n",
    "# performs a health check\n",
    "import requests\n",
    "url = ANALYTICS_BASE_URL + \"/health\"\n",
    "headers = {\n",
    "    \"accept\": \"application/json\"\n",
    "}\n",
    "response = requests.get(url, headers=headers)\n",
    "\n",
    "# Print the response\n",
    "print(\"Status Code:\", response.status_code)\n",
    "print(\"Response Body:\", response.json())"
   ]
  },
  {
   "cell_type": "code",
   "execution_count": 10,
   "id": "81b3e019-fefb-4ee3-89a1-f95e2c778a02",
   "metadata": {
    "tags": []
   },
   "outputs": [
    {
     "name": "stdout",
     "output_type": "stream",
     "text": [
      "Status Code: 200\n",
      "Response Body: [{'session_id': '7a4aad42-5ff7-448c-966d-ccc212ac081e', 'user_id': '1', 'start_time': '2024-12-29T16:38:10.063204', 'end_time': '2024-12-29T16:39:37.970023'}]\n"
     ]
    }
   ],
   "source": [
    "# sessions\n",
    "# Retrieve session information in last 2 hours\n",
    "\n",
    "import requests\n",
    "\n",
    "url = f\"{ANALYTICS_BASE_URL}/sessions?hours=2\"\n",
    "headers = {\n",
    "    \"accept\": \"application/json\"\n",
    "}\n",
    "response = requests.get(url, headers=headers)\n",
    "# Print the response\n",
    "print(\"Status Code:\", response.status_code)\n",
    "try:\n",
    "    print(\"Response Body:\", response.json())\n",
    "except ValueError:\n",
    "    print(\"Response is not in JSON format:\", response.text)"
   ]
  },
  {
   "cell_type": "code",
   "execution_count": 11,
   "id": "2730fd29-41fc-417c-8899-fdbc5015c53c",
   "metadata": {
    "tags": []
   },
   "outputs": [
    {
     "name": "stdout",
     "output_type": "stream",
     "text": [
      "session_id :7a4aad42-5ff7-448c-966d-ccc212ac081e\n",
      "Status Code: 200\n",
      "Response Body: {'session_info': {'session_id': '7a4aad42-5ff7-448c-966d-ccc212ac081e', 'start_time': '2024-12-29T16:38:10.084665', 'end_time': '2024-12-29T16:38:10.084665'}, 'messages': [{'role': 'user', 'content': 'What homework do i have with no grade?', 'sentiment': 'neutral'}, {'role': 'assistant', 'content': 'Here are the homework assignments you have with no grade:\\n\\n- Homework 1, Classical Mechanics, due 2025-01-19\\n- Homework 2, Classical Mechanics, due 2025-01-30\\n- Homework 3, Classical Mechanics, due 2025-02-18\\n- Homework 4, Classical Mechanics, due 2025-02-21\\n- Homework 5, Classical Mechanics, due 2025-02-10', 'sentiment': 'neutral'}]}\n"
     ]
    }
   ],
   "source": [
    "# conversation?session_id=xyz\n",
    "# fetch the conversation history given a session id\n",
    "\n",
    "import requests\n",
    "print(\"session_id :{}\".format(session_id))\n",
    "url = f\"{ANALYTICS_BASE_URL}/session/conversation?session_id={session_id}\"\n",
    "headers = {\n",
    "    \"accept\": \"application/json\"\n",
    "}\n",
    "response = requests.get(url, headers=headers)\n",
    "# Print the response\n",
    "print(\"Status Code:\", response.status_code)\n",
    "try:\n",
    "    print(\"Response Body:\", response.json())\n",
    "except ValueError:\n",
    "    print(\"Response is not in JSON format:\", response.text)"
   ]
  },
  {
   "cell_type": "code",
   "execution_count": 12,
   "id": "10ae404d-379e-4d0e-b33f-99850bd279d5",
   "metadata": {
    "tags": []
   },
   "outputs": [
    {
     "name": "stdout",
     "output_type": "stream",
     "text": [
      "session_id :7a4aad42-5ff7-448c-966d-ccc212ac081e\n",
      "Status Code: 200\n",
      "Response Body: {'session_info': {'session_id': '7a4aad42-5ff7-448c-966d-ccc212ac081e', 'start_time': '2024-12-29T16:38:10.084665', 'end_time': '2024-12-29T16:39:37.970023'}, 'summary': 'The customer asked for homework without grades, and the service rep provided a list of five Classical Mechanics homework assignments, each with a due date in 2025.', 'sentiment': 'neutral'}\n"
     ]
    }
   ],
   "source": [
    "# session/summary\n",
    "# generate the conversation summary given a session_id\n",
    "\n",
    "import requests\n",
    "print(\"session_id :{}\".format(session_id))\n",
    "url = f\"{ANALYTICS_BASE_URL}/session/summary?session_id={session_id}\"\n",
    "headers = {\n",
    "    \"accept\": \"application/json\"\n",
    "}\n",
    "response = requests.get(url, headers=headers)\n",
    "# Print the response\n",
    "print(\"Status Code:\", response.status_code)\n",
    "try:\n",
    "    print(\"Response Body:\", response.json())\n",
    "except ValueError:\n",
    "    print(\"Response is not in JSON format:\", response.text)"
   ]
  },
  {
   "cell_type": "code",
   "execution_count": 13,
   "id": "eb9a3e21-bdef-4923-966e-e52454c138d4",
   "metadata": {
    "tags": []
   },
   "outputs": [
    {
     "name": "stdout",
     "output_type": "stream",
     "text": [
      "Status Code: 200\n",
      "Response Body: {'message': 'Summary feedback saved successfully'}\n"
     ]
    }
   ],
   "source": [
    "## feedback/summary\n",
    "## store the feedback for the summary generated by the solution\n",
    "# feedback convention: -1:Negative, 0:Neutral, 1=Positive\n",
    "\n",
    "url = ANALYTICS_BASE_URL + \"/feedback/summary\"\n",
    "headers = {\n",
    "    \"accept\": \"application/json\",\n",
    "    \"Content-Type\": \"application/json\"\n",
    "}\n",
    "payload = {\n",
    "    \"feedback\": +1, # positive\n",
    "    \"session_id\": f\"{session_id}\"  # Replace with the actual session ID\n",
    "}\n",
    "response = requests.post(url, json=payload, headers=headers)\n",
    "# Print the response\n",
    "print(\"Status Code:\", response.status_code)\n",
    "try:\n",
    "    print(\"Response Body:\", response.json())\n",
    "except ValueError:\n",
    "    print(\"Response is not in JSON format:\", response.text)"
   ]
  },
  {
   "cell_type": "code",
   "execution_count": 14,
   "id": "6d14677a-c269-4943-a755-5f57388ea7c7",
   "metadata": {
    "tags": []
   },
   "outputs": [
    {
     "name": "stdout",
     "output_type": "stream",
     "text": [
      "Status Code: 200\n",
      "Response Body: {'message': 'Session feedback saved successfully'}\n"
     ]
    }
   ],
   "source": [
    "## feedback/session\n",
    "## store user feedback for the overall conversation session.\n",
    "# feedback convention: -1:Negative, 0:Neutral, 1=Positive\n",
    "\n",
    "url = ANALYTICS_BASE_URL + \"/feedback/session\"\n",
    "headers = {\n",
    "    \"accept\": \"application/json\",\n",
    "    \"Content-Type\": \"application/json\"\n",
    "}\n",
    "payload = {\n",
    "    \"feedback\": -1, # negative\n",
    "    \"session_id\": f\"{session_id}\"  # Replace with the actual session ID\n",
    "}\n",
    "response = requests.post(url, json=payload, headers=headers)\n",
    "# Print the response\n",
    "print(\"Status Code:\", response.status_code)\n",
    "try:\n",
    "    print(\"Response Body:\", response.json())\n",
    "except ValueError:\n",
    "    print(\"Response is not in JSON format:\", response.text)"
   ]
  },
  {
   "cell_type": "code",
   "execution_count": 15,
   "id": "845f728a-dde4-43e3-9a4f-3997026df898",
   "metadata": {
    "tags": []
   },
   "outputs": [
    {
     "name": "stdout",
     "output_type": "stream",
     "text": [
      "Status Code: 200\n",
      "Response Body: {'message': 'Sentiment feedback saved successfully'}\n"
     ]
    }
   ],
   "source": [
    "## feedback/sentiment\n",
    "## store rating for the sentiment generated by the solution\n",
    "# feedback convention: -1:Negative, 0:Neutral, 1=Positive\n",
    "\n",
    "url = ANALYTICS_BASE_URL + \"/feedback/sentiment\"\n",
    "headers = {\n",
    "    \"accept\": \"application/json\",\n",
    "    \"Content-Type\": \"application/json\"\n",
    "}\n",
    "payload = {\n",
    "    \"feedback\": 0, # neutral\n",
    "    \"session_id\": f\"{session_id}\"  # Replace with the actual session ID\n",
    "}\n",
    "response = requests.post(url, json=payload, headers=headers)\n",
    "# Print the response\n",
    "print(\"Status Code:\", response.status_code)\n",
    "try:\n",
    "    print(\"Response Body:\", response.json())\n",
    "except ValueError:\n",
    "    print(\"Response is not in JSON format:\", response.text)"
   ]
  },
  {
   "cell_type": "code",
   "execution_count": 16,
   "id": "28686a35-8398-471f-b0f5-72a4b464ec83",
   "metadata": {
    "tags": []
   },
   "outputs": [
    {
     "name": "stdout",
     "output_type": "stream",
     "text": [
      "Status Code: 200\n",
      "Response Body: {'message': 'Session info deleted'}\n"
     ]
    }
   ],
   "source": [
    "# delete_session\n",
    "\n",
    "import requests\n",
    "url = f\"{AGENT_BASE_URL}/delete_session?session_id={session_id}\"\n",
    "headers = {\n",
    "    \"accept\": \"application/json\"\n",
    "}\n",
    "response = requests.delete(url, headers=headers)\n",
    "# Print the response\n",
    "print(\"Status Code:\", response.status_code)\n",
    "try:\n",
    "    print(\"Response Body:\", response.json())\n",
    "except ValueError:\n",
    "    print(\"Response is not in JSON format:\", response.text)"
   ]
  },
  {
   "cell_type": "markdown",
   "id": "69bf3f93-c16f-456b-bcbb-77690b9d6fdf",
   "metadata": {},
   "source": [
    "### Accessing User Feedback data\n",
    "The next few set of cells illustrate how the various types of feedback data can be collected to power the data flywheel.\n",
    "Refer to the docker-compose.yaml or helm chart for the credentials of the postgres db"
   ]
  },
  {
   "cell_type": "code",
   "execution_count": 17,
   "id": "b8499446-b0e5-4979-9b10-f4f104d3b7d5",
   "metadata": {
    "tags": []
   },
   "outputs": [],
   "source": [
    "POSTGRES_HOST = \"localhost\"\n",
    "POSTGRESDB_PORT = \"5432\"\n",
    "POSTGRES_USER = \"postgres\"\n",
    "POSTGRES_PASSWD = \"password\"\n",
    "POSTGRES_DBNAME = \"postgres\"\n",
    "FEEDBACK_TBLNAME = \"feedback\""
   ]
  },
  {
   "cell_type": "markdown",
   "id": "60d76713-21fc-46ce-89d5-7331bb738aae",
   "metadata": {},
   "source": [
    "#### Schema information of the `feedback` table"
   ]
  },
  {
   "cell_type": "code",
   "execution_count": 18,
   "id": "6555fee9-420a-4815-829f-966e448b157c",
   "metadata": {
    "tags": []
   },
   "outputs": [
    {
     "name": "stdout",
     "output_type": "stream",
     "text": [
      "Looking in indexes: https://pypi.org/simple, https://pypi.ngc.nvidia.com\n",
      "Collecting psycopg2\n",
      "  Downloading psycopg2-2.9.10.tar.gz (385 kB)\n",
      "\u001b[2K     \u001b[90m━━━━━━━━━━━━━━━━━━━━━━━━━━━━━━━━━━━━━━\u001b[0m \u001b[32m385.7/385.7 kB\u001b[0m \u001b[31m75.4 MB/s\u001b[0m eta \u001b[36m0:00:00\u001b[0m\n",
      "\u001b[?25h  Preparing metadata (setup.py) ... \u001b[?25lerror\n",
      "  \u001b[1;31merror\u001b[0m: \u001b[1msubprocess-exited-with-error\u001b[0m\n",
      "  \n",
      "  \u001b[31m×\u001b[0m \u001b[32mpython setup.py egg_info\u001b[0m did not run successfully.\n",
      "  \u001b[31m│\u001b[0m exit code: \u001b[1;36m1\u001b[0m\n",
      "  \u001b[31m╰─>\u001b[0m \u001b[31m[23 lines of output]\u001b[0m\n",
      "  \u001b[31m   \u001b[0m running egg_info\n",
      "  \u001b[31m   \u001b[0m creating /tmp/pip-pip-egg-info-x4zmm88q/psycopg2.egg-info\n",
      "  \u001b[31m   \u001b[0m writing /tmp/pip-pip-egg-info-x4zmm88q/psycopg2.egg-info/PKG-INFO\n",
      "  \u001b[31m   \u001b[0m writing dependency_links to /tmp/pip-pip-egg-info-x4zmm88q/psycopg2.egg-info/dependency_links.txt\n",
      "  \u001b[31m   \u001b[0m writing top-level names to /tmp/pip-pip-egg-info-x4zmm88q/psycopg2.egg-info/top_level.txt\n",
      "  \u001b[31m   \u001b[0m writing manifest file '/tmp/pip-pip-egg-info-x4zmm88q/psycopg2.egg-info/SOURCES.txt'\n",
      "  \u001b[31m   \u001b[0m \n",
      "  \u001b[31m   \u001b[0m Error: pg_config executable not found.\n",
      "  \u001b[31m   \u001b[0m \n",
      "  \u001b[31m   \u001b[0m pg_config is required to build psycopg2 from source.  Please add the directory\n",
      "  \u001b[31m   \u001b[0m containing pg_config to the $PATH or specify the full executable path with the\n",
      "  \u001b[31m   \u001b[0m option:\n",
      "  \u001b[31m   \u001b[0m \n",
      "  \u001b[31m   \u001b[0m     python setup.py build_ext --pg-config /path/to/pg_config build ...\n",
      "  \u001b[31m   \u001b[0m \n",
      "  \u001b[31m   \u001b[0m or with the pg_config option in 'setup.cfg'.\n",
      "  \u001b[31m   \u001b[0m \n",
      "  \u001b[31m   \u001b[0m If you prefer to avoid building psycopg2 from source, please install the PyPI\n",
      "  \u001b[31m   \u001b[0m 'psycopg2-binary' package instead.\n",
      "  \u001b[31m   \u001b[0m \n",
      "  \u001b[31m   \u001b[0m For further information please check the 'doc/src/install.rst' file (also at\n",
      "  \u001b[31m   \u001b[0m <https://www.psycopg.org/docs/install.html>).\n",
      "  \u001b[31m   \u001b[0m \n",
      "  \u001b[31m   \u001b[0m \u001b[31m[end of output]\u001b[0m\n",
      "  \n",
      "  \u001b[1;35mnote\u001b[0m: This error originates from a subprocess, and is likely not a problem with pip.\n",
      "\u001b[1;31merror\u001b[0m: \u001b[1mmetadata-generation-failed\u001b[0m\n",
      "\n",
      "\u001b[31m×\u001b[0m Encountered error while generating package metadata.\n",
      "\u001b[31m╰─>\u001b[0m See above for output.\n",
      "\n",
      "\u001b[1;35mnote\u001b[0m: This is an issue with the package mentioned above, not pip.\n",
      "\u001b[1;36mhint\u001b[0m: See above for details.\n",
      "\n",
      "\u001b[1m[\u001b[0m\u001b[34;49mnotice\u001b[0m\u001b[1;39;49m]\u001b[0m\u001b[39;49m A new release of pip is available: \u001b[0m\u001b[31;49m24.1.2\u001b[0m\u001b[39;49m -> \u001b[0m\u001b[32;49m24.3.1\u001b[0m\n",
      "\u001b[1m[\u001b[0m\u001b[34;49mnotice\u001b[0m\u001b[1;39;49m]\u001b[0m\u001b[39;49m To update, run: \u001b[0m\u001b[32;49mpython -m pip install --upgrade pip\u001b[0m\n",
      "\u001b[?25h"
     ]
    }
   ],
   "source": [
    "!pip install psycopg2"
   ]
  },
  {
   "cell_type": "code",
   "execution_count": 19,
   "id": "6d193e1e-63f8-48b6-b7da-4593e8af98ff",
   "metadata": {
    "tags": []
   },
   "outputs": [
    {
     "ename": "ModuleNotFoundError",
     "evalue": "No module named 'psycopg2'",
     "output_type": "error",
     "traceback": [
      "\u001b[0;31m---------------------------------------------------------------------------\u001b[0m",
      "\u001b[0;31mModuleNotFoundError\u001b[0m                       Traceback (most recent call last)",
      "Cell \u001b[0;32mIn[19], line 1\u001b[0m\n\u001b[0;32m----> 1\u001b[0m \u001b[38;5;28;01mimport\u001b[39;00m \u001b[38;5;21;01mpsycopg2\u001b[39;00m\n\u001b[1;32m      3\u001b[0m \u001b[38;5;66;03m# Connection details\u001b[39;00m\n\u001b[1;32m      4\u001b[0m host \u001b[38;5;241m=\u001b[39m POSTGRES_HOST\n",
      "\u001b[0;31mModuleNotFoundError\u001b[0m: No module named 'psycopg2'"
     ]
    }
   ],
   "source": [
    "import psycopg2\n",
    "\n",
    "# Connection details\n",
    "host = POSTGRES_HOST\n",
    "port = POSTGRESDB_PORT\n",
    "database = POSTGRES_DBNAME\n",
    "user = POSTGRES_USER\n",
    "password = POSTGRES_PASSWD\n",
    "\n",
    "# The schema and table you're interested in\n",
    "schema_name = \"public\"      # replace if needed\n",
    "table_name = FEEDBACK_TBLNAME   # replace with the actual table name\n",
    "\n",
    "try:\n",
    "    # Connect to the PostgreSQL database\n",
    "    conn = psycopg2.connect(\n",
    "        host=host,\n",
    "        port=port,\n",
    "        database=database,\n",
    "        user=user,\n",
    "        password=password\n",
    "    )\n",
    "    cursor = conn.cursor()\n",
    "\n",
    "    # Query to get column details of a specific table\n",
    "    # information_schema.columns provides column_name and data_type\n",
    "    query = \"\"\"\n",
    "        SELECT column_name, data_type\n",
    "        FROM information_schema.columns\n",
    "        WHERE table_name = %s AND table_schema = %s\n",
    "        ORDER BY ordinal_position;\n",
    "    \"\"\"\n",
    "    cursor.execute(query, (table_name, schema_name))\n",
    "\n",
    "    columns = cursor.fetchall()\n",
    "\n",
    "    # Print the schema details\n",
    "    print(f\"Schema for {schema_name}.{table_name}:\")\n",
    "    for col in columns:\n",
    "        col_name, data_type = col\n",
    "        print(f\" - {col_name}: {data_type}\")\n",
    "\n",
    "except Exception as e:\n",
    "    print(\"Error:\", e)\n",
    "finally:\n",
    "    if 'cursor' in locals():\n",
    "        cursor.close()\n",
    "    if 'conn' in locals():\n",
    "        conn.close()"
   ]
  },
  {
   "cell_type": "markdown",
   "id": "b53c551b-402f-4e6c-98f1-eaa75d19a941",
   "metadata": {},
   "source": [
    "#### Retrieve the feedback information for each session(session_id)\n",
    "* sentiment\n",
    "* summary\n",
    "* session\n",
    "\n",
    "These fields can take on a value such as\n",
    "\n",
    "1:Positive,\n",
    "0:Neutral,\n",
    "-1:Negative"
   ]
  },
  {
   "cell_type": "code",
   "execution_count": null,
   "id": "b5dd00fd-68b4-4932-95a4-b4f50c45cf06",
   "metadata": {
    "tags": []
   },
   "outputs": [],
   "source": [
    "import psycopg2\n",
    "\n",
    "# Database connection parameters\n",
    "db_params = {\n",
    "    'dbname': POSTGRES_DBNAME,\n",
    "    'user': POSTGRES_USER,\n",
    "    'password': POSTGRES_PASSWD,\n",
    "    'host': POSTGRES_HOST,      # e.g., 'localhost' or the IP address\n",
    "    'port': POSTGRESDB_PORT   # e.g., '5432'\n",
    "}\n",
    "\n",
    "# Connect to the database\n",
    "conn = psycopg2.connect(**db_params)\n",
    "cur = conn.cursor()\n",
    "\n",
    "# Query to select the first 5 rows from the customer_data table\n",
    "query = f'SELECT session_id, sentiment, summary, session FROM feedback;'\n",
    "# Execute the query\n",
    "cur.execute(query)\n",
    "rows = cur.fetchall()\n",
    "\n",
    "# Print the headers and the corresponding rows\n",
    "for i, row in enumerate(rows, start=1):\n",
    "    print(f\"{i}:{row}\")\n",
    "\n",
    "    # Close the connection\n",
    "cur.close()\n",
    "conn.close()"
   ]
  }
 ],
 "metadata": {
  "colab": {
   "provenance": []
  },
  "kernelspec": {
   "display_name": "Python 3 (ipykernel)",
   "language": "python",
   "name": "python3"
  },
  "language_info": {
   "codemirror_mode": {
    "name": "ipython",
    "version": 3
   },
   "file_extension": ".py",
   "mimetype": "text/x-python",
   "name": "python",
   "nbconvert_exporter": "python",
   "pygments_lexer": "ipython3",
   "version": "3.10.12"
  }
 },
 "nbformat": 4,
 "nbformat_minor": 5
}
